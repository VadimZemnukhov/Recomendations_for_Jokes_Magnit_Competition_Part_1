{
 "cells": [
  {
   "cell_type": "markdown",
   "id": "5b272efa-fdb0-43ec-ab5b-abf7ca37b21d",
   "metadata": {
    "id": "5b272efa-fdb0-43ec-ab5b-abf7ca37b21d"
   },
   "source": [
    "Для первой задачи мы используем данные [Jester Online Joke Recommender System](https://goldberg.berkeley.edu/jester-data/)"
   ]
  },
  {
   "cell_type": "markdown",
   "id": "85eb8247-1067-47e5-9a19-f5d20d4b2fd5",
   "metadata": {
    "id": "85eb8247-1067-47e5-9a19-f5d20d4b2fd5"
   },
   "source": [
    "**Описание данных**\n",
    "\n",
    "Файл `train_joke_df.csv` содержит:\n",
    "- UID - id пользователей\n",
    "- JID - id шуток, которые \n",
    "- Ratin - рейтинг шутки, который проставил пользователь \n",
    "\n",
    "\n",
    "Рейтинг имеет значение от -10.00 до 10.00. Могут встречаться значения 99.00, но это обозначает Null (нет рейтинга от пользователя).\n",
    "\n",
    "Метрика для оценки [RMSE](https://www.codecamp.ru/blog/how-to-interpret-rmse/)\n",
    "\n",
    "Минимальный RMSE: `4.2238`\n",
    "\n"
   ]
  },
  {
   "cell_type": "markdown",
   "id": "f4fc3daa-2632-4ad6-b904-752bd2308fc8",
   "metadata": {
    "id": "f4fc3daa-2632-4ad6-b904-752bd2308fc8"
   },
   "source": [
    "### Import"
   ]
  },
  {
   "cell_type": "code",
   "execution_count": 1,
   "id": "427278c8-3010-4e10-9271-dc3b7723e0e7",
   "metadata": {
    "id": "427278c8-3010-4e10-9271-dc3b7723e0e7"
   },
   "outputs": [],
   "source": [
    "import numpy as np\n",
    "import pandas as pd\n",
    "from collections import defaultdict\n",
    "from surprise import Dataset, Reader, KNNWithMeans, accuracy\n",
    "from surprise.model_selection import GridSearchCV\n",
    "from surprise.model_selection import train_test_split\n",
    "from sklearn.model_selection import train_test_split as tts\n",
    "from surprise.model_selection import KFold\n",
    "\n",
    "np.random.seed(42)"
   ]
  },
  {
   "cell_type": "markdown",
   "id": "0011beb8-385e-4fab-a946-7c5972cd7727",
   "metadata": {
    "id": "0011beb8-385e-4fab-a946-7c5972cd7727"
   },
   "source": [
    "### Базовые функции для скоринга и получения рекомендаций"
   ]
  },
  {
   "cell_type": "code",
   "execution_count": 2,
   "id": "95b435cb-6972-4a46-b086-bc5ae5a89b8e",
   "metadata": {
    "id": "95b435cb-6972-4a46-b086-bc5ae5a89b8e"
   },
   "outputs": [],
   "source": [
    "def get_num_user_ratings(uid):\n",
    "    \"\"\" возвращает кол-во рейтингов у пользователя \n",
    "    args: \n",
    "      uid: id пользователей\n",
    "    returns: \n",
    "      кол-во объектов, которые оценил пользователь\n",
    "    \"\"\"\n",
    "    try:\n",
    "        return len(trainset.ur[trainset.to_inner_uid(uid)])\n",
    "    except ValueError: # пользователя не было во время обучения (новый, отправить на стартовые рекомендации)\n",
    "        return 0\n",
    "    \n",
    "def get_num_item_ratings(iid):\n",
    "    \"\"\" возвращает кол-во пользователей, которые оценили выбранный элемент \n",
    "    args:\n",
    "      iid: строка с элементов рекомендации\n",
    "    returns:\n",
    "      кол-во пользователей, которые дали оценки по элементу\n",
    "    \"\"\"\n",
    "    try: \n",
    "        return len(trainset.ir[trainset.to_inner_iid(iid)])\n",
    "    except ValueError:\n",
    "        return 0\n",
    "    \n",
    "# На основе Surprise FAQ построим рекомендации Топ-N\n",
    "def get_top_n(predictions, n=5):\n",
    "    \"\"\"Определят Топ-N рекомендаций\n",
    "\n",
    "    Args:\n",
    "        predictions(list of Prediction objects): Списко рекомендаций, из алгоритма Surprise\n",
    "        n(int): Кол-во топ рекомендаций\n",
    "\n",
    "    Returns:\n",
    "        Словарь пользователь - список рекомендакиций для пользователей\n",
    "        [(raw item id, rating estimation), ...]\n",
    "    \"\"\"\n",
    "\n",
    "    # Предикт для каждого пользователя\n",
    "    top_n = defaultdict(list)\n",
    "    for uid, iid, true_r, est, _ in predictions:\n",
    "        top_n[uid].append((iid, est))\n",
    "\n",
    "    # Сортировка предикта (по пользователям)\n",
    "    for uid, user_ratings in top_n.items():\n",
    "        user_ratings.sort(key=lambda x: x[1], reverse=True)\n",
    "        top_n[uid] = user_ratings[:n]\n",
    "\n",
    "    return top_n    "
   ]
  },
  {
   "cell_type": "markdown",
   "id": "d3f82a04-60f8-4338-8175-84409a9226ae",
   "metadata": {
    "id": "d3f82a04-60f8-4338-8175-84409a9226ae"
   },
   "source": [
    "### Загрузка и обработка данных"
   ]
  },
  {
   "cell_type": "code",
   "execution_count": 3,
   "id": "6c7c4800-84cc-48ec-b5a4-0e0cb5a69c18",
   "metadata": {
    "colab": {
     "base_uri": "https://localhost:8080/",
     "height": 206
    },
    "id": "6c7c4800-84cc-48ec-b5a4-0e0cb5a69c18",
    "outputId": "867fbe58-7ef6-42fd-a561-b183fac8a56c"
   },
   "outputs": [
    {
     "data": {
      "text/html": [
       "<div>\n",
       "<style scoped>\n",
       "    .dataframe tbody tr th:only-of-type {\n",
       "        vertical-align: middle;\n",
       "    }\n",
       "\n",
       "    .dataframe tbody tr th {\n",
       "        vertical-align: top;\n",
       "    }\n",
       "\n",
       "    .dataframe thead th {\n",
       "        text-align: right;\n",
       "    }\n",
       "</style>\n",
       "<table border=\"1\" class=\"dataframe\">\n",
       "  <thead>\n",
       "    <tr style=\"text-align: right;\">\n",
       "      <th></th>\n",
       "      <th>UID</th>\n",
       "      <th>JID</th>\n",
       "      <th>Rating</th>\n",
       "    </tr>\n",
       "  </thead>\n",
       "  <tbody>\n",
       "    <tr>\n",
       "      <th>0</th>\n",
       "      <td>18029</td>\n",
       "      <td>6</td>\n",
       "      <td>-1.26</td>\n",
       "    </tr>\n",
       "    <tr>\n",
       "      <th>1</th>\n",
       "      <td>3298</td>\n",
       "      <td>64</td>\n",
       "      <td>-4.17</td>\n",
       "    </tr>\n",
       "    <tr>\n",
       "      <th>2</th>\n",
       "      <td>3366</td>\n",
       "      <td>58</td>\n",
       "      <td>0.92</td>\n",
       "    </tr>\n",
       "    <tr>\n",
       "      <th>3</th>\n",
       "      <td>12735</td>\n",
       "      <td>92</td>\n",
       "      <td>3.69</td>\n",
       "    </tr>\n",
       "    <tr>\n",
       "      <th>4</th>\n",
       "      <td>11365</td>\n",
       "      <td>38</td>\n",
       "      <td>-6.60</td>\n",
       "    </tr>\n",
       "  </tbody>\n",
       "</table>\n",
       "</div>"
      ],
      "text/plain": [
       "     UID  JID  Rating\n",
       "0  18029    6   -1.26\n",
       "1   3298   64   -4.17\n",
       "2   3366   58    0.92\n",
       "3  12735   92    3.69\n",
       "4  11365   38   -6.60"
      ]
     },
     "execution_count": 3,
     "metadata": {},
     "output_type": "execute_result"
    }
   ],
   "source": [
    "df = pd.read_csv('train_joke_df.csv')\n",
    "\n",
    "df.head(5)"
   ]
  },
  {
   "cell_type": "code",
   "execution_count": 4,
   "id": "08f07545-6735-407c-b549-822e9c701c70",
   "metadata": {
    "id": "08f07545-6735-407c-b549-822e9c701c70"
   },
   "outputs": [],
   "source": [
    "# сделаем сортировку и перепишем index\n",
    "df = df.sort_values(by=['UID', 'JID'])\n",
    "df = df.reset_index(drop=True)"
   ]
  },
  {
   "cell_type": "code",
   "execution_count": 5,
   "id": "c6569d6a-5e39-43ee-96c8-283d788573d3",
   "metadata": {
    "id": "c6569d6a-5e39-43ee-96c8-283d788573d3"
   },
   "outputs": [],
   "source": [
    "# создадим на основе набора данных\n",
    "# поднабор, который требуется для библиотеки Surprise\n",
    "\n",
    "# указываем минимальный и максимальный рейтинги\n",
    "reader = Reader(rating_scale=(-10, 10))\n",
    "\n",
    "# передаём набор, указывая последовательность колонок: user (raw) ids, item (raw) ids, ratings\n",
    "# для Surprise - это обязательно\n",
    "data = Dataset.load_from_df(df[['UID', 'JID', 'Rating']], reader)"
   ]
  },
  {
   "cell_type": "code",
   "execution_count": 6,
   "id": "ae962279-bafb-408e-a1a9-1c698d75157e",
   "metadata": {
    "id": "ae962279-bafb-408e-a1a9-1c698d75157e"
   },
   "outputs": [],
   "source": [
    "trainset_data = data.build_full_trainset()\n",
    "\n",
    "# сделаем разделение на обучающую и тестовую выборку\n",
    "trainset, testset = train_test_split(data, test_size=0.2, random_state=42)"
   ]
  },
  {
   "cell_type": "markdown",
   "id": "879fe08d-1317-4028-b797-03baee7f7311",
   "metadata": {
    "id": "879fe08d-1317-4028-b797-03baee7f7311"
   },
   "source": [
    "### Обучение модели"
   ]
  },
  {
   "cell_type": "code",
   "execution_count": 50,
   "id": "d49480df-77b9-4e69-b123-d8ef610af17d",
   "metadata": {
    "colab": {
     "base_uri": "https://localhost:8080/"
    },
    "id": "d49480df-77b9-4e69-b123-d8ef610af17d",
    "outputId": "c3d15544-f42b-48ff-facc-c60617c308a6"
   },
   "outputs": [
    {
     "name": "stdout",
     "output_type": "stream",
     "text": [
      "4.2165999167810995\n",
      "{'sim_options': {'name': 'cosine', 'min_support': 3, 'user_based': False}}\n"
     ]
    }
   ],
   "source": [
    "# определим набор данных для GridSearchCV\n",
    "sim_options = {\n",
    "    \"name\": [\"msd\", \"cosine\"], # способы оценки похожести (в GridSearch)\n",
    "    \"min_support\": [3, 4, 5, 6],     # минимальное кол-во общих пользоватлей с данной шуткой\n",
    "    \"user_based\": [False],     # поиск \"похожести\" будет на основе шуток, а не пользователей\n",
    "}\n",
    "\n",
    "param_grid = {\"sim_options\": sim_options}\n",
    "\n",
    "gs = GridSearchCV(KNNWithMeans, param_grid, measures=[\"rmse\", \"mae\"], cv=5, n_jobs = -1)\n",
    "gs.fit(data)\n",
    "     \n",
    "# результат\n",
    "print(gs.best_score[\"rmse\"])\n",
    "print(gs.best_params[\"rmse\"])"
   ]
  },
  {
   "cell_type": "code",
   "execution_count": 51,
   "id": "21e7c75a-e8df-4e8c-9b9d-7f200790cb44",
   "metadata": {
    "colab": {
     "base_uri": "https://localhost:8080/"
    },
    "id": "21e7c75a-e8df-4e8c-9b9d-7f200790cb44",
    "outputId": "273217cf-d0b8-433b-d750-2c02d0dc9a2a"
   },
   "outputs": [
    {
     "name": "stdout",
     "output_type": "stream",
     "text": [
      "Computing the cosine similarity matrix...\n",
      "Done computing similarity matrix.\n",
      "RMSE: 3.1630\n"
     ]
    },
    {
     "data": {
      "text/plain": [
       "3.1630155752190734"
      ]
     },
     "execution_count": 51,
     "metadata": {},
     "output_type": "execute_result"
    }
   ],
   "source": [
    "# обучим с лучшими параметрами\n",
    "algo = gs.best_estimator['rmse']\n",
    "algo.fit(trainset)\n",
    "\n",
    "# получим предикт и посмотрим метрику\n",
    "predictions = algo.test(testset)\n",
    "accuracy.rmse(predictions)"
   ]
  },
  {
   "cell_type": "code",
   "execution_count": 7,
   "id": "9e7fcc4c",
   "metadata": {},
   "outputs": [],
   "source": [
    "from surprise import SVD\n",
    "from surprise.model_selection import cross_validate"
   ]
  },
  {
   "cell_type": "markdown",
   "id": "fcce50ac",
   "metadata": {},
   "source": [
    "Проверим алгоритм по кросс-валидации \"из коробки\"."
   ]
  },
  {
   "cell_type": "code",
   "execution_count": 10,
   "id": "644de08e",
   "metadata": {},
   "outputs": [
    {
     "name": "stdout",
     "output_type": "stream",
     "text": [
      "Evaluating RMSE, MAE of algorithm SVD on 5 split(s).\n",
      "\n",
      "                  Fold 1  Fold 2  Fold 3  Fold 4  Fold 5  Mean    Std     \n",
      "RMSE (testset)    4.2140  4.2113  4.2283  4.2157  4.2228  4.2184  0.0062  \n",
      "MAE (testset)     3.2687  3.2632  3.2783  3.2641  3.2693  3.2687  0.0054  \n",
      "Fit time          23.52   23.72   23.67   23.65   23.53   23.62   0.08    \n",
      "Test time         1.94    2.05    1.98    1.85    1.77    1.92    0.10    \n"
     ]
    },
    {
     "data": {
      "text/plain": [
       "{'test_rmse': array([4.21395092, 4.21134903, 4.22830917, 4.21567565, 4.22279362]),\n",
       " 'test_mae': array([3.26869739, 3.26320166, 3.27825164, 3.26407215, 3.26929574]),\n",
       " 'fit_time': (23.516319513320923,\n",
       "  23.724047899246216,\n",
       "  23.66774845123291,\n",
       "  23.645395755767822,\n",
       "  23.525880575180054),\n",
       " 'test_time': (1.9411273002624512,\n",
       "  2.054489850997925,\n",
       "  1.980290174484253,\n",
       "  1.8510627746582031,\n",
       "  1.7710673809051514)}"
      ]
     },
     "execution_count": 10,
     "metadata": {},
     "output_type": "execute_result"
    }
   ],
   "source": [
    "svd = SVD(verbose=True, n_epochs=10)\n",
    "cross_validate(svd, data, measures=['RMSE', 'MAE'], n_jobs = -1, cv=5, verbose=True)"
   ]
  },
  {
   "cell_type": "markdown",
   "id": "4546c95f",
   "metadata": {},
   "source": [
    "Теперь подберем значения гиперпараметров по сетке."
   ]
  },
  {
   "cell_type": "code",
   "execution_count": 36,
   "id": "cfe8dd99",
   "metadata": {},
   "outputs": [
    {
     "name": "stdout",
     "output_type": "stream",
     "text": [
      "4.051781460267707\n",
      "{'n_epochs': 15, 'lr_all': 0.002, 'reg_all': 0.1}\n"
     ]
    }
   ],
   "source": [
    "param_grid = {\"n_epochs\": [5, 10, 15], \"lr_all\": [0.002, 0.005, 0.008, 0.01], \"reg_all\": [0.1, 0.2, 0.3, 0.4, 0.6, 0.8]}\n",
    "gs = GridSearchCV(SVD, param_grid, measures=[\"rmse\", \"mae\"], cv=5, n_jobs = -1)\n",
    "\n",
    "gs.fit(data)\n",
    "\n",
    "print(gs.best_score[\"rmse\"])\n",
    "print(gs.best_params[\"rmse\"])"
   ]
  },
  {
   "cell_type": "code",
   "execution_count": 37,
   "id": "65246958",
   "metadata": {},
   "outputs": [
    {
     "name": "stdout",
     "output_type": "stream",
     "text": [
      "RMSE: 3.1204\n"
     ]
    },
    {
     "data": {
      "text/plain": [
       "3.12038806136564"
      ]
     },
     "execution_count": 37,
     "metadata": {},
     "output_type": "execute_result"
    }
   ],
   "source": [
    "# обучим с лучшими параметрами\n",
    "svd = gs.best_estimator['rmse']\n",
    "svd.fit(trainset)\n",
    "\n",
    "# получим предикт и посмотрим метрику\n",
    "predictions_svd = svd.test(testset)\n",
    "accuracy.rmse(predictions_svd)"
   ]
  },
  {
   "cell_type": "markdown",
   "id": "4c1547c9",
   "metadata": {},
   "source": [
    "Ошибка на кросс-валидации стала меньше. Уточним значения гиперпараметров."
   ]
  },
  {
   "cell_type": "code",
   "execution_count": 38,
   "id": "d9bdd776",
   "metadata": {},
   "outputs": [
    {
     "name": "stdout",
     "output_type": "stream",
     "text": [
      "4.0505930677143445\n",
      "{'n_epochs': 12, 'lr_all': 0.002, 'reg_all': 0.1}\n"
     ]
    }
   ],
   "source": [
    "param_grid = {\"n_epochs\": [12, 15, 17], \"lr_all\": [0.001, 0.002], \"reg_all\": [0.05, 0.07, 0.1]}\n",
    "gs = GridSearchCV(SVD, param_grid, measures=[\"rmse\", \"mae\"], cv=5, n_jobs = -1)\n",
    "\n",
    "gs.fit(data)\n",
    "\n",
    "print(gs.best_score[\"rmse\"])\n",
    "print(gs.best_params[\"rmse\"])"
   ]
  },
  {
   "cell_type": "code",
   "execution_count": 39,
   "id": "975af1fd",
   "metadata": {},
   "outputs": [
    {
     "name": "stdout",
     "output_type": "stream",
     "text": [
      "RMSE: 3.0841\n"
     ]
    },
    {
     "data": {
      "text/plain": [
       "3.084144782480551"
      ]
     },
     "execution_count": 39,
     "metadata": {},
     "output_type": "execute_result"
    }
   ],
   "source": [
    "svd = gs.best_estimator['rmse']\n",
    "svd.fit(trainset)\n",
    "\n",
    "predictions_svd = svd.test(testset)\n",
    "accuracy.rmse(predictions_svd)"
   ]
  },
  {
   "cell_type": "code",
   "execution_count": 16,
   "id": "f0510742",
   "metadata": {},
   "outputs": [
    {
     "name": "stdout",
     "output_type": "stream",
     "text": [
      "4.050286136265535\n",
      "{'n_epochs': 14, 'lr_all': 0.002, 'reg_all': 0.1}\n"
     ]
    }
   ],
   "source": [
    "param_grid = {\"n_epochs\": [11, 12, 13, 14], \"lr_all\": [0.002, 0.003, 0.004], \"reg_all\": [0.1, 0.15]}\n",
    "gs = GridSearchCV(SVD, param_grid, measures=[\"rmse\", \"mae\"], cv=5, n_jobs = -1)\n",
    "\n",
    "gs.fit(data)\n",
    "\n",
    "print(gs.best_score[\"rmse\"])\n",
    "print(gs.best_params[\"rmse\"])"
   ]
  },
  {
   "cell_type": "code",
   "execution_count": 17,
   "id": "e067e536",
   "metadata": {},
   "outputs": [
    {
     "name": "stdout",
     "output_type": "stream",
     "text": [
      "RMSE: 4.0557\n"
     ]
    },
    {
     "data": {
      "text/plain": [
       "4.055660211192525"
      ]
     },
     "execution_count": 17,
     "metadata": {},
     "output_type": "execute_result"
    }
   ],
   "source": [
    "svd = gs.best_estimator['rmse']\n",
    "svd.fit(trainset)\n",
    "\n",
    "predictions_svd = svd.test(testset)\n",
    "accuracy.rmse(predictions_svd)"
   ]
  },
  {
   "cell_type": "code",
   "execution_count": 18,
   "id": "4309f164",
   "metadata": {},
   "outputs": [
    {
     "name": "stdout",
     "output_type": "stream",
     "text": [
      "4.045473989186674\n",
      "{'n_epochs': 16, 'lr_all': 0.002, 'reg_all': 0.13}\n"
     ]
    }
   ],
   "source": [
    "param_grid = {\"n_epochs\": [12, 14, 16], \"lr_all\": [0.002, 0.0025], \"reg_all\": [0.1, 0.11, 0.12, 0.13, 0.14]}\n",
    "gs = GridSearchCV(SVD, param_grid, measures=[\"rmse\", \"mae\"], cv=5, n_jobs = -1)\n",
    "\n",
    "gs.fit(data)\n",
    "\n",
    "print(gs.best_score[\"rmse\"])\n",
    "print(gs.best_params[\"rmse\"])"
   ]
  },
  {
   "cell_type": "code",
   "execution_count": 19,
   "id": "56de7f7c",
   "metadata": {},
   "outputs": [
    {
     "name": "stdout",
     "output_type": "stream",
     "text": [
      "RMSE: 4.0509\n"
     ]
    },
    {
     "data": {
      "text/plain": [
       "4.050920928319449"
      ]
     },
     "execution_count": 19,
     "metadata": {},
     "output_type": "execute_result"
    }
   ],
   "source": [
    "svd = gs.best_estimator['rmse']\n",
    "svd.fit(trainset)\n",
    "\n",
    "predictions_svd = svd.test(testset)\n",
    "accuracy.rmse(predictions_svd)"
   ]
  },
  {
   "cell_type": "markdown",
   "id": "dace3422",
   "metadata": {},
   "source": [
    "Предсказание рейтинга при использовании алгоритма на основе SVD дало сильно меньшую ошибку RMSE на тестовой выборке и вероятно будет давать более качественные пресказания."
   ]
  },
  {
   "cell_type": "markdown",
   "id": "b072635d-739a-48cd-812f-8fd04e3f9d32",
   "metadata": {
    "id": "b072635d-739a-48cd-812f-8fd04e3f9d32"
   },
   "source": [
    "### Тестирование и результаты"
   ]
  },
  {
   "cell_type": "code",
   "execution_count": 28,
   "id": "c2be3189-9e9e-469a-916e-9c78a93e6aa2",
   "metadata": {
    "colab": {
     "base_uri": "https://localhost:8080/"
    },
    "id": "c2be3189-9e9e-469a-916e-9c78a93e6aa2",
    "outputId": "1d50db09-cb1d-437b-9359-dc212b43f515"
   },
   "outputs": [
    {
     "name": "stdout",
     "output_type": "stream",
     "text": [
      "user: 1          item: 1          r_ui = -7.82   est = -3.08   {'actual_k': 40, 'was_impossible': False}\n"
     ]
    }
   ],
   "source": [
    "# получаем предикт\n",
    "uid = 1  # id пользователя \n",
    "iid = 1  # id шутки\n",
    "\n",
    "# получим предик на основе обученных данных\n",
    "# -7.82 - это фактический рейтинг, но посмотрим, какой ответ будет в предикте\n",
    "pred = algo.predict(uid, iid, r_ui=-7.82, verbose=True)"
   ]
  },
  {
   "cell_type": "code",
   "execution_count": 20,
   "id": "52c22f37",
   "metadata": {},
   "outputs": [
    {
     "name": "stdout",
     "output_type": "stream",
     "text": [
      "user: 1          item: 1          r_ui = -7.82   est = -3.75   {'was_impossible': False}\n"
     ]
    }
   ],
   "source": [
    "# получаем предикт\n",
    "uid = 1  # id пользователя \n",
    "iid = 1  # id шутки\n",
    "\n",
    "# получим предик на основе обученных данных\n",
    "# -7.82 - это фактический рейтинг, но посмотрим, какой ответ будет в предикте\n",
    "pred = svd.predict(uid, iid, r_ui=-7.82, verbose=True)"
   ]
  },
  {
   "cell_type": "code",
   "execution_count": 29,
   "id": "a6cca0fb-7536-45f5-8ad9-9233831bb5f7",
   "metadata": {
    "colab": {
     "base_uri": "https://localhost:8080/"
    },
    "id": "a6cca0fb-7536-45f5-8ad9-9233831bb5f7",
    "outputId": "70f2481a-a1f4-4ce8-8d2f-c7ddb9c5fd8a"
   },
   "outputs": [
    {
     "name": "stdout",
     "output_type": "stream",
     "text": [
      "user: 24983      item: 62         r_ui = -0.29   est = 5.19   {'actual_k': 40, 'was_impossible': False}\n"
     ]
    }
   ],
   "source": [
    "uid = 24983  # id пользователя \n",
    "iid = 62     # id шутки\n",
    "\n",
    "pred = algo.predict(uid, iid, r_ui=-0.29, verbose=True)"
   ]
  },
  {
   "cell_type": "code",
   "execution_count": 21,
   "id": "2e42a4ab",
   "metadata": {},
   "outputs": [
    {
     "name": "stdout",
     "output_type": "stream",
     "text": [
      "user: 24983      item: 62         r_ui = -0.29   est = 4.87   {'was_impossible': False}\n"
     ]
    }
   ],
   "source": [
    "uid = 24983  # id пользователя \n",
    "iid = 62     # id шутки\n",
    "\n",
    "pred = svd.predict(uid, iid, r_ui=-0.29, verbose=True)"
   ]
  },
  {
   "cell_type": "markdown",
   "id": "8aad9a6e",
   "metadata": {},
   "source": [
    "При выборочной проверке случайных пользователей, мы видим более точные предсказания при использовании алгоритма на основе SVD."
   ]
  },
  {
   "cell_type": "markdown",
   "id": "09debb1b-0ffa-4dc4-a91b-c06124e0d8b7",
   "metadata": {
    "id": "09debb1b-0ffa-4dc4-a91b-c06124e0d8b7"
   },
   "source": [
    "### Обзор рекомендаций"
   ]
  },
  {
   "cell_type": "code",
   "execution_count": 22,
   "id": "d942cdd3-af9d-4cc4-a294-0f451b0944ab",
   "metadata": {
    "id": "d942cdd3-af9d-4cc4-a294-0f451b0944ab"
   },
   "outputs": [],
   "source": [
    "# построим таблицу для обзора набора рекомендаций\n",
    "# посмотрим, какие элементы и в каком кол-ве рекомендуем\n",
    "#trainset = algo.trainset\n",
    "\n",
    "predictions_df = pd.DataFrame(predictions_svd, columns=['uid', 'iid', 'rui', 'est', 'details'])\n",
    "\n",
    "predictions_df['№ кол-во пользовательских рейтингов'] = predictions_df.uid.apply(get_num_user_ratings)\n",
    "predictions_df['№ кол-во рейтингов элементов'] = predictions_df.iid.apply(get_num_item_ratings)\n",
    "predictions_df['error'] = abs(predictions_df.est - predictions_df.rui)\n",
    "\n",
    "best_predictions = predictions_df.sort_values(by='error')[:10]\n",
    "worst_predictions = predictions_df.sort_values(by='error')[-10:]"
   ]
  },
  {
   "cell_type": "code",
   "execution_count": 23,
   "id": "ca77d78d-db5e-44b7-8da0-3bd7c8d34f64",
   "metadata": {
    "colab": {
     "base_uri": "https://localhost:8080/",
     "height": 206
    },
    "id": "ca77d78d-db5e-44b7-8da0-3bd7c8d34f64",
    "outputId": "c5c136d2-7910-4ae7-9a66-fe89c672c2fe"
   },
   "outputs": [
    {
     "data": {
      "text/html": [
       "<div>\n",
       "<style scoped>\n",
       "    .dataframe tbody tr th:only-of-type {\n",
       "        vertical-align: middle;\n",
       "    }\n",
       "\n",
       "    .dataframe tbody tr th {\n",
       "        vertical-align: top;\n",
       "    }\n",
       "\n",
       "    .dataframe thead th {\n",
       "        text-align: right;\n",
       "    }\n",
       "</style>\n",
       "<table border=\"1\" class=\"dataframe\">\n",
       "  <thead>\n",
       "    <tr style=\"text-align: right;\">\n",
       "      <th></th>\n",
       "      <th>uid</th>\n",
       "      <th>iid</th>\n",
       "      <th>rui</th>\n",
       "      <th>est</th>\n",
       "      <th>details</th>\n",
       "      <th>№ кол-во пользовательских рейтингов</th>\n",
       "      <th>№ кол-во рейтингов элементов</th>\n",
       "      <th>error</th>\n",
       "    </tr>\n",
       "  </thead>\n",
       "  <tbody>\n",
       "    <tr>\n",
       "      <th>56247</th>\n",
       "      <td>23533</td>\n",
       "      <td>69</td>\n",
       "      <td>2.77</td>\n",
       "      <td>2.769993</td>\n",
       "      <td>{'was_impossible': False}</td>\n",
       "      <td>43</td>\n",
       "      <td>15997</td>\n",
       "      <td>0.000007</td>\n",
       "    </tr>\n",
       "    <tr>\n",
       "      <th>120998</th>\n",
       "      <td>628</td>\n",
       "      <td>26</td>\n",
       "      <td>1.02</td>\n",
       "      <td>1.019988</td>\n",
       "      <td>{'was_impossible': False}</td>\n",
       "      <td>52</td>\n",
       "      <td>15140</td>\n",
       "      <td>0.000012</td>\n",
       "    </tr>\n",
       "    <tr>\n",
       "      <th>220412</th>\n",
       "      <td>15140</td>\n",
       "      <td>96</td>\n",
       "      <td>1.46</td>\n",
       "      <td>1.460014</td>\n",
       "      <td>{'was_impossible': False}</td>\n",
       "      <td>55</td>\n",
       "      <td>6631</td>\n",
       "      <td>0.000014</td>\n",
       "    </tr>\n",
       "    <tr>\n",
       "      <th>144464</th>\n",
       "      <td>9244</td>\n",
       "      <td>46</td>\n",
       "      <td>-0.39</td>\n",
       "      <td>-0.390031</td>\n",
       "      <td>{'was_impossible': False}</td>\n",
       "      <td>29</td>\n",
       "      <td>15041</td>\n",
       "      <td>0.000031</td>\n",
       "    </tr>\n",
       "    <tr>\n",
       "      <th>202671</th>\n",
       "      <td>11979</td>\n",
       "      <td>32</td>\n",
       "      <td>0.87</td>\n",
       "      <td>0.870037</td>\n",
       "      <td>{'was_impossible': False}</td>\n",
       "      <td>30</td>\n",
       "      <td>16029</td>\n",
       "      <td>0.000037</td>\n",
       "    </tr>\n",
       "    <tr>\n",
       "      <th>281414</th>\n",
       "      <td>22841</td>\n",
       "      <td>36</td>\n",
       "      <td>2.57</td>\n",
       "      <td>2.569963</td>\n",
       "      <td>{'was_impossible': False}</td>\n",
       "      <td>57</td>\n",
       "      <td>15847</td>\n",
       "      <td>0.000037</td>\n",
       "    </tr>\n",
       "    <tr>\n",
       "      <th>115623</th>\n",
       "      <td>4230</td>\n",
       "      <td>39</td>\n",
       "      <td>-0.53</td>\n",
       "      <td>-0.529955</td>\n",
       "      <td>{'was_impossible': False}</td>\n",
       "      <td>66</td>\n",
       "      <td>14817</td>\n",
       "      <td>0.000045</td>\n",
       "    </tr>\n",
       "    <tr>\n",
       "      <th>148095</th>\n",
       "      <td>6327</td>\n",
       "      <td>64</td>\n",
       "      <td>1.21</td>\n",
       "      <td>1.209908</td>\n",
       "      <td>{'was_impossible': False}</td>\n",
       "      <td>40</td>\n",
       "      <td>11146</td>\n",
       "      <td>0.000092</td>\n",
       "    </tr>\n",
       "    <tr>\n",
       "      <th>105142</th>\n",
       "      <td>10024</td>\n",
       "      <td>57</td>\n",
       "      <td>-5.44</td>\n",
       "      <td>-5.440102</td>\n",
       "      <td>{'was_impossible': False}</td>\n",
       "      <td>67</td>\n",
       "      <td>10208</td>\n",
       "      <td>0.000102</td>\n",
       "    </tr>\n",
       "    <tr>\n",
       "      <th>181277</th>\n",
       "      <td>561</td>\n",
       "      <td>33</td>\n",
       "      <td>1.89</td>\n",
       "      <td>1.889805</td>\n",
       "      <td>{'was_impossible': False}</td>\n",
       "      <td>48</td>\n",
       "      <td>10767</td>\n",
       "      <td>0.000195</td>\n",
       "    </tr>\n",
       "  </tbody>\n",
       "</table>\n",
       "</div>"
      ],
      "text/plain": [
       "          uid  iid   rui       est                    details  \\\n",
       "56247   23533   69  2.77  2.769993  {'was_impossible': False}   \n",
       "120998    628   26  1.02  1.019988  {'was_impossible': False}   \n",
       "220412  15140   96  1.46  1.460014  {'was_impossible': False}   \n",
       "144464   9244   46 -0.39 -0.390031  {'was_impossible': False}   \n",
       "202671  11979   32  0.87  0.870037  {'was_impossible': False}   \n",
       "281414  22841   36  2.57  2.569963  {'was_impossible': False}   \n",
       "115623   4230   39 -0.53 -0.529955  {'was_impossible': False}   \n",
       "148095   6327   64  1.21  1.209908  {'was_impossible': False}   \n",
       "105142  10024   57 -5.44 -5.440102  {'was_impossible': False}   \n",
       "181277    561   33  1.89  1.889805  {'was_impossible': False}   \n",
       "\n",
       "        № кол-во пользовательских рейтингов  № кол-во рейтингов элементов  \\\n",
       "56247                                    43                         15997   \n",
       "120998                                   52                         15140   \n",
       "220412                                   55                          6631   \n",
       "144464                                   29                         15041   \n",
       "202671                                   30                         16029   \n",
       "281414                                   57                         15847   \n",
       "115623                                   66                         14817   \n",
       "148095                                   40                         11146   \n",
       "105142                                   67                         10208   \n",
       "181277                                   48                         10767   \n",
       "\n",
       "           error  \n",
       "56247   0.000007  \n",
       "120998  0.000012  \n",
       "220412  0.000014  \n",
       "144464  0.000031  \n",
       "202671  0.000037  \n",
       "281414  0.000037  \n",
       "115623  0.000045  \n",
       "148095  0.000092  \n",
       "105142  0.000102  \n",
       "181277  0.000195  "
      ]
     },
     "execution_count": 23,
     "metadata": {},
     "output_type": "execute_result"
    }
   ],
   "source": [
    "best_predictions.head(10)"
   ]
  },
  {
   "cell_type": "code",
   "execution_count": 24,
   "id": "68a89929-b581-43d9-bfa5-452535641ace",
   "metadata": {
    "colab": {
     "base_uri": "https://localhost:8080/"
    },
    "id": "68a89929-b581-43d9-bfa5-452535641ace",
    "outputId": "0b2d86ba-8f2f-4601-8697-03a42e4f172a"
   },
   "outputs": [
    {
     "name": "stdout",
     "output_type": "stream",
     "text": [
      "19208 [54, 65, 89, 29, 81]\n",
      "8671 [8, 83, 32, 19, 72]\n",
      "6037 [27, 36, 87, 89, 80]\n",
      "3233 [50, 31, 36, 27, 42]\n",
      "3449 [100, 65, 83, 80, 53]\n",
      "10032 [35, 32, 53, 29, 91]\n",
      "5774 [89, 91, 29, 32, 88]\n",
      "23392 [53, 62, 36, 89, 21]\n",
      "3039 [89, 91, 62, 36, 88]\n",
      "17395 [27, 89, 11, 10, 50]\n"
     ]
    }
   ],
   "source": [
    "# Предикт для всех, кого нет в выборке для обучения\n",
    "testset = trainset.build_anti_testset()\n",
    "predictions_svd = svd.test(testset)\n",
    "\n",
    "top_n = get_top_n(predictions_svd)\n",
    "\n",
    "# Сделаем вывод рекомендаций\n",
    "a=0\n",
    "for uid, user_ratings in top_n.items():\n",
    "    a+=1\n",
    "    print(uid, [iid for (iid, _) in user_ratings])\n",
    "    \n",
    "    if a==10:\n",
    "        break"
   ]
  },
  {
   "cell_type": "markdown",
   "id": "aa5422a2-7447-489e-b789-5753fa32f2fa",
   "metadata": {
    "id": "aa5422a2-7447-489e-b789-5753fa32f2fa"
   },
   "source": [
    "### Для отправки на тестирование"
   ]
  },
  {
   "cell_type": "markdown",
   "id": "5dc3a0d5",
   "metadata": {},
   "source": [
    "Обучим модель на полной тестовой выборке"
   ]
  },
  {
   "cell_type": "code",
   "execution_count": 25,
   "id": "09e962d4",
   "metadata": {},
   "outputs": [
    {
     "data": {
      "text/plain": [
       "<surprise.prediction_algorithms.matrix_factorization.SVD at 0x189c94c3a30>"
      ]
     },
     "execution_count": 25,
     "metadata": {},
     "output_type": "execute_result"
    }
   ],
   "source": [
    "svd.fit(trainset_data)"
   ]
  },
  {
   "cell_type": "code",
   "execution_count": 26,
   "id": "d06b634c-c15c-4210-973c-1e4e7f7ccf9b",
   "metadata": {
    "colab": {
     "base_uri": "https://localhost:8080/",
     "height": 238
    },
    "id": "d06b634c-c15c-4210-973c-1e4e7f7ccf9b",
    "outputId": "0988a430-0875-4cce-986e-7973ba158917"
   },
   "outputs": [
    {
     "data": {
      "text/html": [
       "<div>\n",
       "<style scoped>\n",
       "    .dataframe tbody tr th:only-of-type {\n",
       "        vertical-align: middle;\n",
       "    }\n",
       "\n",
       "    .dataframe tbody tr th {\n",
       "        vertical-align: top;\n",
       "    }\n",
       "\n",
       "    .dataframe thead th {\n",
       "        text-align: right;\n",
       "    }\n",
       "</style>\n",
       "<table border=\"1\" class=\"dataframe\">\n",
       "  <thead>\n",
       "    <tr style=\"text-align: right;\">\n",
       "      <th></th>\n",
       "      <th>UID</th>\n",
       "      <th>JID</th>\n",
       "    </tr>\n",
       "    <tr>\n",
       "      <th>InteractionID</th>\n",
       "      <th></th>\n",
       "      <th></th>\n",
       "    </tr>\n",
       "  </thead>\n",
       "  <tbody>\n",
       "    <tr>\n",
       "      <th>0</th>\n",
       "      <td>11228</td>\n",
       "      <td>39</td>\n",
       "    </tr>\n",
       "    <tr>\n",
       "      <th>1</th>\n",
       "      <td>21724</td>\n",
       "      <td>85</td>\n",
       "    </tr>\n",
       "    <tr>\n",
       "      <th>2</th>\n",
       "      <td>16782</td>\n",
       "      <td>56</td>\n",
       "    </tr>\n",
       "    <tr>\n",
       "      <th>3</th>\n",
       "      <td>12105</td>\n",
       "      <td>42</td>\n",
       "    </tr>\n",
       "    <tr>\n",
       "      <th>4</th>\n",
       "      <td>14427</td>\n",
       "      <td>2</td>\n",
       "    </tr>\n",
       "  </tbody>\n",
       "</table>\n",
       "</div>"
      ],
      "text/plain": [
       "                 UID  JID\n",
       "InteractionID            \n",
       "0              11228   39\n",
       "1              21724   85\n",
       "2              16782   56\n",
       "3              12105   42\n",
       "4              14427    2"
      ]
     },
     "execution_count": 26,
     "metadata": {},
     "output_type": "execute_result"
    }
   ],
   "source": [
    "test = pd.read_csv('test_joke_df_nofactrating.csv', index_col=0)\n",
    "test.head(5)"
   ]
  },
  {
   "cell_type": "code",
   "execution_count": 27,
   "id": "27bade05-e8a4-4b23-a370-0fc7151ad768",
   "metadata": {
    "id": "27bade05-e8a4-4b23-a370-0fc7151ad768"
   },
   "outputs": [],
   "source": [
    "test['Rating'] = test[['UID', 'JID']].apply(lambda x: svd.predict(x[0], x[1], verbose=False).est,\n",
    "                                                      axis = 1)\n",
    "                                                      \n"
   ]
  },
  {
   "cell_type": "code",
   "execution_count": 28,
   "id": "8856cf55-5e63-493c-9b33-69ee76e39ea6",
   "metadata": {
    "colab": {
     "base_uri": "https://localhost:8080/",
     "height": 238
    },
    "id": "8856cf55-5e63-493c-9b33-69ee76e39ea6",
    "outputId": "5465856f-5b98-418c-80a7-743d51727f88"
   },
   "outputs": [
    {
     "data": {
      "text/html": [
       "<div>\n",
       "<style scoped>\n",
       "    .dataframe tbody tr th:only-of-type {\n",
       "        vertical-align: middle;\n",
       "    }\n",
       "\n",
       "    .dataframe tbody tr th {\n",
       "        vertical-align: top;\n",
       "    }\n",
       "\n",
       "    .dataframe thead th {\n",
       "        text-align: right;\n",
       "    }\n",
       "</style>\n",
       "<table border=\"1\" class=\"dataframe\">\n",
       "  <thead>\n",
       "    <tr style=\"text-align: right;\">\n",
       "      <th></th>\n",
       "      <th>Rating</th>\n",
       "    </tr>\n",
       "    <tr>\n",
       "      <th>InteractionID</th>\n",
       "      <th></th>\n",
       "    </tr>\n",
       "  </thead>\n",
       "  <tbody>\n",
       "    <tr>\n",
       "      <th>0</th>\n",
       "      <td>3.236721</td>\n",
       "    </tr>\n",
       "    <tr>\n",
       "      <th>1</th>\n",
       "      <td>-8.130317</td>\n",
       "    </tr>\n",
       "    <tr>\n",
       "      <th>2</th>\n",
       "      <td>-1.212230</td>\n",
       "    </tr>\n",
       "    <tr>\n",
       "      <th>3</th>\n",
       "      <td>6.749977</td>\n",
       "    </tr>\n",
       "    <tr>\n",
       "      <th>4</th>\n",
       "      <td>6.252820</td>\n",
       "    </tr>\n",
       "  </tbody>\n",
       "</table>\n",
       "</div>"
      ],
      "text/plain": [
       "                 Rating\n",
       "InteractionID          \n",
       "0              3.236721\n",
       "1             -8.130317\n",
       "2             -1.212230\n",
       "3              6.749977\n",
       "4              6.252820"
      ]
     },
     "execution_count": 28,
     "metadata": {},
     "output_type": "execute_result"
    }
   ],
   "source": [
    "# вид набора данных, который должен быть отправлен для тестирования\n",
    "test['Rating'].to_frame().head(5)"
   ]
  },
  {
   "cell_type": "code",
   "execution_count": 29,
   "id": "yLcjElHPRU1v",
   "metadata": {
    "id": "yLcjElHPRU1v"
   },
   "outputs": [],
   "source": [
    "# формирование файла для отправки в Kaggle\n",
    "test['Rating'].to_frame().to_csv('baseline.csv')"
   ]
  },
  {
   "cell_type": "code",
   "execution_count": null,
   "id": "12ede002",
   "metadata": {},
   "outputs": [],
   "source": []
  }
 ],
 "metadata": {
  "colab": {
   "provenance": []
  },
  "kernelspec": {
   "display_name": "Python 3 (ipykernel)",
   "language": "python",
   "name": "python3"
  },
  "language_info": {
   "codemirror_mode": {
    "name": "ipython",
    "version": 3
   },
   "file_extension": ".py",
   "mimetype": "text/x-python",
   "name": "python",
   "nbconvert_exporter": "python",
   "pygments_lexer": "ipython3",
   "version": "3.9.12"
  }
 },
 "nbformat": 4,
 "nbformat_minor": 5
}
